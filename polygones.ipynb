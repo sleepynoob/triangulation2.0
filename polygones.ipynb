{
 "cells": [
  {
   "attachments": {},
   "cell_type": "markdown",
   "metadata": {},
   "source": [
    "## imports"
   ]
  },
  {
   "cell_type": "code",
   "execution_count": 96,
   "metadata": {},
   "outputs": [],
   "source": [
    "import matplotlib\n",
    "matplotlib.use('TKagg')\n",
    "import matplotlib.pyplot as plt\n",
    "from matplotlib.pyplot import *\n",
    "from matplotlib.patches import Polygon\n",
    "from matplotlib.collections import PatchCollection\n",
    "import numpy as np\n",
    "from scipy.spatial import Delaunay\n",
    "import math\n",
    "import random"
   ]
  },
  {
   "attachments": {},
   "cell_type": "markdown",
   "metadata": {},
   "source": [
    "## fonctions de dessins"
   ]
  },
  {
   "cell_type": "code",
   "execution_count": 97,
   "metadata": {},
   "outputs": [],
   "source": [
    "def draw_diagonals(polygon, diagonals):\n",
    "    # Draw the polygon\n",
    "    plt.figure(figsize=(8,8))\n",
    "    plt.gca().set_aspect('equal')\n",
    "    x, y = zip(*polygon)\n",
    "    plt.plot(x + (x[0],), y + (y[0],), '-o')\n",
    "\n",
    "    # Draw the diagonals\n",
    "    for i, j in diagonals:\n",
    "        x, y = zip(polygon[i], polygon[j])\n",
    "        plt.plot(x, y, 'r')\n",
    "    \n",
    "    # Show the plot\n",
    "    plt.show()\n"
   ]
  },
  {
   "cell_type": "code",
   "execution_count": 98,
   "metadata": {},
   "outputs": [],
   "source": [
    "def draw_polygon_and_triangles(points, triangles, zoom_out=1):\n",
    "    # Créer la figure et l'axe\n",
    "    fig, ax = plt.subplots()\n",
    "\n",
    "    # Dessiner le polygone\n",
    "    poly = Polygon(points, facecolor='white', edgecolor='black')\n",
    "    ax.add_patch(poly)\n",
    "\n",
    "    # Dessiner chaque triangle avec une couleur aléatoire\n",
    "    for triangle in triangles:\n",
    "        color = (random.random(), random.random(), random.random())\n",
    "        tri = Polygon(triangle, facecolor=color, edgecolor='black')\n",
    "        ax.add_patch(tri)\n",
    "\n",
    "    # Définir les limites de l'axe\n",
    "    margin = max(1, max(abs(point[0]) for point in points), max(abs(point[1]) for point in points))\n",
    "    ax.set_xlim([-margin*zoom_out, margin*zoom_out])\n",
    "    ax.set_ylim([-margin*zoom_out, margin*zoom_out])\n",
    "\n",
    "    # Afficher la figure\n",
    "    plt.show()"
   ]
  },
  {
   "attachments": {},
   "cell_type": "markdown",
   "metadata": {},
   "source": [
    "## Essais Successifs"
   ]
  },
  {
   "attachments": {},
   "cell_type": "markdown",
   "metadata": {},
   "source": [
    "##### Fonction pour vérifier si une corde est valide La fonction `validecorde_exact` prend en entrée une corde `corde` à tester, une liste de cordes déjà dessinées `drawn_chords` et le nombre de sommets `n` du cycle. Elle renvoie `True` si la corde est valide et `False` sinon.\n",
    "##### La fonction vérifie si la corde relie deux sommets différents, si elle n'est pas déjà dessinée, si elle ne relie pas des sommets adjacents et si elle ne croise aucune corde déjà dessinée.\n"
   ]
  },
  {
   "cell_type": "code",
   "execution_count": 99,
   "metadata": {},
   "outputs": [],
   "source": [
    "def validecorde_exact(corde, drawn_chords,n):\n",
    "    (i,j) = corde\n",
    "     # Si i et j sont égaux, alors la corde n'est pas valide car elle relie un sommet à lui-même\n",
    "    if i==j :\n",
    "        return False\n",
    "    # Si i et j sont adjacents, alors la corde n'est pas valide car elle relie des sommets voisins\n",
    "    # On utilise le modulo n pour considérer le cas où j=i+1=n ou i=j+1=n\n",
    "    if i == (j+1)%n or j == (i+1)%n : \n",
    "        return False\n",
    "    # Vérifier s'il y a une corde entre i,j qui croise une corde déjà dessinée\n",
    "    for (k, p) in drawn_chords:\n",
    "        if (k < i and i < p < j) or (k > i and i > p > j):\n",
    "            return False\n",
    "        # Vérifier si la corde i,j est déjà dessinée\n",
    "        if (i,j) == (k,p) or (j,i) == (k,p) :\n",
    "            return False\n",
    "    # On vérifie si la corde (i,j) croise une corde déjà dessinée, \n",
    "    # en testant si les sommets k et p d'une corde dessinée (k,p) sont tels que \n",
    "    # l'un des deux soit strictement entre i et j dans l'ordre des sommets du cycle, c'est-à-dire k<i<j<p ou p<i<j<k.\n",
    "\n",
    "    return True\n",
    "    # Si on arrive jusqu'ici, alors la corde (i,j) ne croise aucune corde déjà dessinée et est donc valide."
   ]
  },
  {
   "attachments": {},
   "cell_type": "markdown",
   "metadata": {},
   "source": [
    "#### Essais Successifs\n",
    "#####\n",
    "# Stratégie de triangulation de polygones\n",
    "\n",
    "##### La fonction `generate_best_triangulation` utilise une approche par force brute pour générer toutes les triangulations possibles du polygone d'entrée `C`. Pour ce faire, elle génère d'abord toutes les diagonales possibles du polygone convexe `C` à l'aide de la fonction `generate_diagonals_convex`. Ensuite, pour chaque diagonale possible, elle génère une triangulation du polygone en utilisant la fonction `generate_triangulation_eval`.\n",
    "\n",
    "##### La fonction `generate_triangulation_eval` utilise un algorithme pour générer une triangulation du polygone à partir de la diagonale de départ donnée. L'algorithme ajoute des diagonales au polygone tant qu'elles ne croisent pas d'autres diagonales déjà tracées et qu'elles ne créent pas de triangles concaves. L'algorithme s'arrête lorsqu'il n'est plus possible d'ajouter de diagonales au polygone.\n",
    "\n",
    "##### La fonction `generate_best_triangulation` applique ensuite la fonction `generate_triangulation_eval` à chaque diagonale possible du polygone convexe et stocke la triangulation et son évaluation dans deux listes distinctes. Enfin, elle renvoie la triangulation qui a la plus petite évaluation.\n",
    "\n",
    "##### En somme, la stratégie utilisée par la fonction `generate_best_triangulation` consiste à générer toutes les triangulations possibles du polygone d'entrée et à les évaluer pour trouver celle qui minimise la longueur totale des diagonales. Bien que cette approche soit exhaustive, elle est garantie de trouver la meilleure triangulation possible. Cependant, cette méthode peut s'avérer coûteuse en temps de calcul pour les polygones de grande taille."
   ]
  },
  {
   "cell_type": "code",
   "execution_count": 100,
   "metadata": {},
   "outputs": [],
   "source": [
    "def generate_diagonals_convex(points):\n",
    "    \"\"\"\n",
    "    Cette fonction génère toutes les diagonales convexes d'un polygone donné en utilisant une approche par force brute. \n",
    "    Elle prend en entrée une liste de tuples représentant les points du polygone et renvoie une liste de tuples contenant \n",
    "    les indices des points reliés par les diagonales.\n",
    "    \"\"\"\n",
    "    diagonales = []\n",
    "    n = len(points)\n",
    "    for i in range(n):\n",
    "        for j in range(i+2, n):\n",
    "            diagonales.append((points[i], points[j]))\n",
    "    diagonales_index = [ (points.index(p[0]),points.index(p[1])) for p in diagonales]\n",
    "    diagonales_index.remove((0,n-1))\n",
    "    return diagonales_index\n",
    "\n",
    "# exemple d'utilisation:\n",
    "points = [(0, 0), (1, 1), (2, 0), (1, -1)]\n",
    "C = [(-1, 1), (-1, 3), (1, 4), (3, 3), (2, 1), (0, 0)]\n",
    "diagonales = generate_diagonals_convex(C)\n",
    "\n",
    "#print(diagonals, len(diagonals))\n",
    "#O(n^2)"
   ]
  },
  {
   "cell_type": "code",
   "execution_count": 101,
   "metadata": {},
   "outputs": [],
   "source": [
    "def line_length(p1, p2):\n",
    "    \"\"\"\n",
    "    Cette fonction calcule la distance euclidienne entre deux points 2D donnés en entrée p1 et p2 et renvoie un nombre flottant.\n",
    "    \"\"\"\n",
    "    x1, y1 = p1\n",
    "    x2, y2 = p2\n",
    "    return math.sqrt((x2 - x1) ** 2 + (y2 - y1) ** 2)"
   ]
  },
  {
   "cell_type": "code",
   "execution_count": 102,
   "metadata": {},
   "outputs": [],
   "source": [
    "def generate_triangulation_eval(C, diagonales, start):\n",
    "    \"\"\"\n",
    "    Cette fonction génère une triangulation du polygone donné en utilisant les diagonales données en entrée et en partant de \n",
    "    la diagonale de départ 'start'. Elle renvoie une liste de tuples contenant les indices des points reliés par les diagonales ainsi \n",
    "    que la longueur totale de la triangulation.\n",
    "    \"\"\"\n",
    "    n = len(C)\n",
    "    diagonales_dessinées = []\n",
    "    eval = line_length(C[start[0]], C[start[1]])\n",
    "    diagonales_dessinées.append(start)\n",
    "    i = 0\n",
    "    while len(diagonales_dessinées) < n-3 or i<(n-3)*(n-2)/2:\n",
    "        if validecorde_exact(diagonales[i], diagonales_dessinées, n):\n",
    "            diagonales_dessinées.append(diagonales[i])\n",
    "            eval += line_length(C[diagonales[i][0]], C[diagonales[i][1]])\n",
    "        i += 1\n",
    "    return diagonales_dessinées, eval \n",
    "\n",
    "#C = [(-1, 1), (-1, 3), (1, 4), (3, 3), (2, 1), (0, 0)]\n",
    "#diagonals = generate_diagonals_convex(C)\n",
    "#print(generate_triangulation_eval(C,diagonals,(0,2)))"
   ]
  },
  {
   "cell_type": "code",
   "execution_count": 103,
   "metadata": {},
   "outputs": [],
   "source": [
    "def generate_best_triangulation(C):\n",
    "    \"\"\"\n",
    "    Cette fonction génère toutes les triangulations possibles du polygone donné et renvoie la triangulation avec la \n",
    "    longueur totale minimale. Elle utilise les fonctions generate_diagonals_convex et generate_triangulation_eval.\n",
    "    \"\"\"\n",
    "    diagonales_possibles = generate_diagonals_convex(C)\n",
    "    triangulations = []\n",
    "    evals = []  \n",
    "    for i in diagonales_possibles:  \n",
    "        returns = generate_triangulation_eval(C, diagonales_possibles, i)\n",
    "        triangulations +=  [returns[0]]\n",
    "        evals += [returns[1]]\n",
    "    return triangulations[evals.index(min(evals))]"
   ]
  },
  {
   "cell_type": "code",
   "execution_count": 104,
   "metadata": {},
   "outputs": [],
   "source": [
    "C = [\n",
    "(180.49111067193468, 494.6643076028935)\n",
    ",(153.57298273821428, 491.8990116382506)\n",
    ",(124.90587499022688, 482.56823390821756)\n",
    ",(94.8304013738639, 465.4617906982039)\n",
    ",(79.65802095744523, 451.0048215906153)\n",
    ",(58.657721967764864, 430.7563139713908)\n",
    ",(22.125366180142493, 377.135118374759)\n",
    ",(15.018875463509772, 340.6585145248268)\n",
    ",(7.423964246997095, 237.6564116158071)\n",
    ",(13.25404024697252, 177.78175687888677)\n",
    ",(24.105947793609307, 125.83176826111064)\n",
    ",(42.27962105864147, 78.94556462003533)\n",
    ",(55.46466046939314, 46.68742678288962)\n",
    ",(65.52681116466663, 33.29498410064791)\n",
    ",(126.6137140781215, 23.464199508610008)\n",
    ",(282.78977610022685, 9.617583587439471)\n",
    ",(356.9265394776163, 7.778598135969372)\n",
    ",(363.79596068265454, 9.146574531481711)\n",
    ",(363.8598081309624, 9.168552444235868)\n",
    ",(410.2550243605333, 28.412895732593867)\n",
    ",(446.6594395588621, 47.50671199284218)\n",
    ",(460.78665921087867, 64.044003818305)\n",
    ",(475.03239783670716, 92.81868127186299)\n",
    ",(465.8151124650581, 164.52408991617017)\n",
    ",(454.9461041438435, 219.66632833107658)\n",
    ",(327.8984491216154, 442.4023448567188)\n",
    ",(285.1837042223283, 490.3952039723944)\n",
    ",(281.86092750835576, 490.7914741816579)\n",
    ",(276.3170853336246, 491.370066028904)]\n",
    "draw_diagonals(C, generate_best_triangulation(C))"
   ]
  },
  {
   "attachments": {},
   "cell_type": "markdown",
   "metadata": {},
   "source": [
    "#### test"
   ]
  },
  {
   "attachments": {},
   "cell_type": "markdown",
   "metadata": {},
   "source": [
    "## Dynamique"
   ]
  },
  {
   "attachments": {},
   "cell_type": "markdown",
   "metadata": {},
   "source": [
    "##### L'algorithme de triangulation de polygones suivant est basé sur la méthode de programmation dynamique. Il consiste à trouver des triangles formés par les sommets du polygone de manière à le découper en triangles non intersectants. Pour cela, l'algorithme cherche des \"oreilles\" du polygone, c'est-à-dire des triangles formés par trois sommets qui ne contiennent pas d'autres sommets du polygone à l'intérieur. Une fois une oreille trouvée, elle est enlevée du polygone et le processus est répété sur le polygone restant jusqu'à ce qu'il ne reste plus de sommets. L'algorithme retourne alors la liste des triangles formés. \n"
   ]
  },
  {
   "cell_type": "code",
   "execution_count": 105,
   "metadata": {},
   "outputs": [],
   "source": [
    "def triangulate_polygon(polygon):\n",
    "    triangles = []\n",
    "    n = len(polygon)\n",
    "    \n",
    "    # Si le nombre de sommets du polygone est inférieur à 3, il ne peut pas être triangulé\n",
    "    if n < 3:\n",
    "        return triangles\n",
    "    \n",
    "    # Parcourt tous les sommets du polygone\n",
    "    for i in range(n):\n",
    "        prev = (i - 1) % n\n",
    "        curr = i\n",
    "        next = (i + 1) % n\n",
    "        \n",
    "        # Vérifie si le triangle formé par les sommets i, i+1 et i+2 est une \"oreille\" du polygone\n",
    "        if is_ear(polygon, prev, curr, next):\n",
    "            # Ajoute le triangle à la liste des triangles et enlève le sommet i+1 du polygone\n",
    "            triangles.append((polygon[prev], polygon[curr], polygon[next]))\n",
    "            polygon.pop(curr)\n",
    "            # Répète le processus de triangulation sur le polygone restant\n",
    "            return triangles + triangulate_polygon(polygon)\n",
    "    \n",
    "    # Si aucun triangle n'a été trouvé pour trianguler le polygone, la triangulation est terminée\n",
    "    return triangles\n",
    "\n",
    "def is_ear(polygon, i, j, k):\n",
    "    # Vérifie si le triangle formé par les sommets i, j et k ne contient pas d'autres sommets du polygone\n",
    "    for m in range(len(polygon)):\n",
    "        if m != i and m != j and m != k and is_inside_triangle(polygon[m], polygon[i], polygon[j], polygon[k]):\n",
    "            return False\n",
    "    return True\n",
    "\n",
    "def is_inside_triangle(p, a, b, c):\n",
    "    # Vérifie si le point p est à l'intérieur du triangle formé par les sommets a, b et c\n",
    "    return is_same_side(p, a, b, c) and is_same_side(p, b, a, c) and is_same_side(p, c, a, b)\n",
    "\n",
    "def is_same_side(p1, p2, a, b):\n",
    "    # Vérifie si les points p1 et p2 sont du même côté de la ligne formée par les sommets a et b\n",
    "    cp1 = cross_product(b[0] - a[0], b[1] - a[1], p1[0] - a[0], p1[1] - a[1])\n",
    "    cp2 = cross_product(b[0] - a[0], b[1] - a[1], p2[0] - a[0], p2[1] - a[1])\n",
    "    return cp1 * cp2 >= 0\n",
    "\n",
    "def cross_product(x1, y1, x2, y2):\n",
    "    # Calcule le produit vectoriel de deux vecteurs\n",
    "    return x1 * y2 - x2 * y1"
   ]
  },
  {
   "attachments": {},
   "cell_type": "markdown",
   "metadata": {},
   "source": [
    "#### test"
   ]
  },
  {
   "cell_type": "code",
   "execution_count": 106,
   "metadata": {},
   "outputs": [],
   "source": [
    "C = [\n",
    "(180.49111067193468, 494.6643076028935)\n",
    ",(153.57298273821428, 491.8990116382506)\n",
    ",(124.90587499022688, 482.56823390821756)\n",
    ",(94.8304013738639, 465.4617906982039)\n",
    ",(79.65802095744523, 451.0048215906153)\n",
    ",(58.657721967764864, 430.7563139713908)\n",
    ",(22.125366180142493, 377.135118374759)\n",
    ",(15.018875463509772, 340.6585145248268)\n",
    ",(7.423964246997095, 237.6564116158071)\n",
    ",(13.25404024697252, 177.78175687888677)\n",
    ",(24.105947793609307, 125.83176826111064)\n",
    ",(42.27962105864147, 78.94556462003533)\n",
    ",(55.46466046939314, 46.68742678288962)\n",
    ",(65.52681116466663, 33.29498410064791)\n",
    ",(126.6137140781215, 23.464199508610008)\n",
    ",(282.78977610022685, 9.617583587439471)\n",
    ",(356.9265394776163, 7.778598135969372)\n",
    ",(363.79596068265454, 9.146574531481711)\n",
    ",(363.8598081309624, 9.168552444235868)\n",
    ",(410.2550243605333, 28.412895732593867)\n",
    ",(446.6594395588621, 47.50671199284218)\n",
    ",(460.78665921087867, 64.044003818305)\n",
    ",(475.03239783670716, 92.81868127186299)\n",
    ",(465.8151124650581, 164.52408991617017)\n",
    ",(454.9461041438435, 219.66632833107658)\n",
    ",(327.8984491216154, 442.4023448567188)\n",
    ",(285.1837042223283, 490.3952039723944)\n",
    ",(281.86092750835576, 490.7914741816579)\n",
    ",(276.3170853336246, 491.370066028904)]\n",
    "triangles = triangulate_polygon(C)\n",
    "draw_polygon_and_triangles(C, triangles)"
   ]
  },
  {
   "attachments": {},
   "cell_type": "markdown",
   "metadata": {},
   "source": [
    "## Greedy"
   ]
  },
  {
   "attachments": {},
   "cell_type": "markdown",
   "metadata": {},
   "source": [
    "##### Ce code implémente une méthode de triangulation d'un polygone convexe en utilisant une méthode de programmation gloutonne. L'idée est de choisir la corde extérieure la plus courte à chaque étape de la triangulation.\n",
    "\n",
    "##### La fonction `triangle_greedy` prend en entrée une liste de points qui représentent les sommets du polygone convexe. Elle retourne une liste de triangles, chaque triangle étant représenté par un tuple de 3 points. "
   ]
  },
  {
   "cell_type": "code",
   "execution_count": 107,
   "metadata": {},
   "outputs": [],
   "source": [
    "def triangle_greedy(points):\n",
    "    # Vérifier que les points forment un polygone convexe\n",
    "    n = len(points)\n",
    "    if n < 3:\n",
    "        # Si la liste de points contient moins de 3 points, elle ne peut pas former un polygone convexe,\n",
    "        # donc on retourne une liste vide\n",
    "        return []\n",
    "\n",
    "    # Initialiser la liste des triangles\n",
    "    triangles = []\n",
    "\n",
    "    # Tant qu'il reste des sommets à trianguler\n",
    "    while n > 2:\n",
    "        # Rechercher la corde extérieure la plus courte\n",
    "        min_distance = float('inf')\n",
    "        min_index = -1\n",
    "        for i in range(n):\n",
    "            p1 = points[i]\n",
    "            p2 = points[(i+1)%n]\n",
    "            for j in range(1, n-1):\n",
    "                if j == i or j == (i+1)%n:\n",
    "                    continue\n",
    "                p3 = points[(i+j)%n]\n",
    "                p4 = points[(i+j+1)%n]\n",
    "                distance = line_length(p1, p3) + line_length(p2, p4)\n",
    "                if distance < min_distance:\n",
    "                    min_distance = distance\n",
    "                    min_index = (i+j)%n\n",
    "\n",
    "        # Ajouter le triangle formé par la corde extérieure\n",
    "        triangles.append((points[min_index], points[(min_index+1)%n], points[(min_index-1)%n]))\n",
    "\n",
    "        # Retirer le point sélectionné\n",
    "        points.pop(min_index)\n",
    "        n -= 1\n",
    "\n",
    "    # Retourner la liste des triangles\n",
    "    return triangles"
   ]
  },
  {
   "attachments": {},
   "cell_type": "markdown",
   "metadata": {},
   "source": [
    "#### test"
   ]
  },
  {
   "cell_type": "code",
   "execution_count": 108,
   "metadata": {},
   "outputs": [],
   "source": [
    "C = [\n",
    "(180.49111067193468, 494.6643076028935)\n",
    ",(153.57298273821428, 491.8990116382506)\n",
    ",(124.90587499022688, 482.56823390821756)\n",
    ",(94.8304013738639, 465.4617906982039)\n",
    ",(79.65802095744523, 451.0048215906153)\n",
    ",(58.657721967764864, 430.7563139713908)\n",
    ",(22.125366180142493, 377.135118374759)\n",
    ",(15.018875463509772, 340.6585145248268)\n",
    ",(7.423964246997095, 237.6564116158071)\n",
    ",(13.25404024697252, 177.78175687888677)\n",
    ",(24.105947793609307, 125.83176826111064)\n",
    ",(42.27962105864147, 78.94556462003533)\n",
    ",(55.46466046939314, 46.68742678288962)\n",
    ",(65.52681116466663, 33.29498410064791)\n",
    ",(126.6137140781215, 23.464199508610008)\n",
    ",(282.78977610022685, 9.617583587439471)\n",
    ",(356.9265394776163, 7.778598135969372)\n",
    ",(363.79596068265454, 9.146574531481711)\n",
    ",(363.8598081309624, 9.168552444235868)\n",
    ",(410.2550243605333, 28.412895732593867)\n",
    ",(446.6594395588621, 47.50671199284218)\n",
    ",(460.78665921087867, 64.044003818305)\n",
    ",(475.03239783670716, 92.81868127186299)\n",
    ",(465.8151124650581, 164.52408991617017)\n",
    ",(454.9461041438435, 219.66632833107658)\n",
    ",(327.8984491216154, 442.4023448567188)\n",
    ",(285.1837042223283, 490.3952039723944)\n",
    ",(281.86092750835576, 490.7914741816579)\n",
    ",(276.3170853336246, 491.370066028904)]\n",
    "triangles = triangle_greedy(C)\n",
    "draw_polygon_and_triangles(C, triangles)"
   ]
  },
  {
   "cell_type": "code",
   "execution_count": null,
   "metadata": {},
   "outputs": [],
   "source": []
  }
 ],
 "metadata": {
  "kernelspec": {
   "display_name": "Python 3",
   "language": "python",
   "name": "python3"
  },
  "language_info": {
   "codemirror_mode": {
    "name": "ipython",
    "version": 3
   },
   "file_extension": ".py",
   "mimetype": "text/x-python",
   "name": "python",
   "nbconvert_exporter": "python",
   "pygments_lexer": "ipython3",
   "version": "3.11.0"
  },
  "orig_nbformat": 4
 },
 "nbformat": 4,
 "nbformat_minor": 2
}
